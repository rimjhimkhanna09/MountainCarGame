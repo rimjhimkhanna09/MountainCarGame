{
  "nbformat": 4,
  "nbformat_minor": 0,
  "metadata": {
    "colab": {
      "provenance": [],
      "include_colab_link": true
    },
    "kernelspec": {
      "name": "python3",
      "display_name": "Python 3"
    },
    "language_info": {
      "name": "python"
    }
  },
  "cells": [
    {
      "cell_type": "markdown",
      "metadata": {
        "id": "view-in-github",
        "colab_type": "text"
      },
      "source": [
        "<a href=\"https://colab.research.google.com/github/rimjhimkhanna09/MountainCarGame/blob/main/MountainCarGame.ipynb\" target=\"_parent\"><img src=\"https://colab.research.google.com/assets/colab-badge.svg\" alt=\"Open In Colab\"/></a>"
      ]
    },
    {
      "cell_type": "markdown",
      "source": [
        " **Problem Description**\n",
        "\n",
        "In the MountainCar environment, a car starts at the bottom of a valley. The agent must learn to drive up a steep hill to reach the flag. Since the car’s engine is not powerful enough to climb the hill directly, it must first build momentum by driving back and forth.\n",
        "The car's engine isn't powerful enough to drive directly up the hill. Instead, the agent must learn to build momentum by first moving left to gain speed and then driving right to reach the goal.\n",
        "\n",
        "    State Space: Continuous values for position and velocity.\n",
        "    Action Space: Three discrete actions:\n",
        "        0: Push left\n",
        "        1: No push\n",
        "        2: Push right\n",
        "    Reward: The agent gets -1 for each time step until it reaches the goal."
      ],
      "metadata": {
        "id": "1vZ74GdYS7gT"
      }
    },
    {
      "cell_type": "markdown",
      "source": [
        "Training:\n",
        "\n",
        "    The agent is trained over 5000 episodes.\n",
        "    Epsilon-greedy policy ensures exploration initially, which decays over time to favor exploitation.\n",
        "\n",
        "Testing:\n",
        "\n",
        "    The trained agent is evaluated and its performance recorded as a video.\n",
        "\n",
        "Video Display:\n",
        "\n",
        "    The RecordVideo wrapper saves the video, and it is displayed using HTML in Colab."
      ],
      "metadata": {
        "id": "2OMhh8fUTc-G"
      }
    },
    {
      "cell_type": "code",
      "source": [
        "# Install the required library\n",
        "!pip install gym\n",
        "\n",
        "# Import required libraries\n",
        "import gym\n",
        "import numpy as np\n",
        "import matplotlib.pyplot as plt\n",
        "from IPython.display import HTML\n",
        "import glob\n",
        "import io\n",
        "from base64 import b64encode\n",
        "from gym.wrappers import RecordVideo\n",
        "\n",
        "# Function to discretize state space\n",
        "def discretize_state(state, bins):\n",
        "    position_bins = np.linspace(-1.2, 0.6, bins)  # Discretize position\n",
        "    velocity_bins = np.linspace(-0.07, 0.07, bins)  # Discretize velocity\n",
        "    position_idx = np.digitize(state[0], position_bins) - 1\n",
        "    velocity_idx = np.digitize(state[1], velocity_bins) - 1\n",
        "    return (position_idx, velocity_idx)\n",
        "\n",
        "# Function to display video\n",
        "def show_video():\n",
        "    video_path = glob.glob('./video/*.mp4')[0]\n",
        "    video = io.open(video_path, 'r+b').read()\n",
        "    encoded = b64encode(video)\n",
        "    return HTML(data=f'''\n",
        "        <video width=\"640\" height=\"480\" controls>\n",
        "            <source src=\"data:video/mp4;base64,{encoded.decode('ascii')}\" type=\"video/mp4\">\n",
        "        </video>''')\n",
        "\n",
        "# Initialize the environment\n",
        "env = gym.make(\"MountainCar-v0\")\n",
        "\n",
        "# Hyperparameters\n",
        "n_bins = 20  # Number of bins for discretization\n",
        "alpha = 0.1  # Learning rate\n",
        "gamma = 0.99  # Discount factor\n",
        "epsilon = 1.0  # Exploration rate\n",
        "epsilon_decay = 0.995\n",
        "epsilon_min = 0.01\n",
        "n_episodes = 5000\n",
        "\n",
        "# Initialize Q-table\n",
        "n_actions = env.action_space.n\n",
        "q_table = np.zeros((n_bins, n_bins, n_actions))\n",
        "\n",
        "# Training loop\n",
        "for episode in range(n_episodes):\n",
        "    state = discretize_state(env.reset(), n_bins)\n",
        "    done = False\n",
        "    total_reward = 0\n",
        "\n",
        "    while not done:\n",
        "        # Choose action: exploration vs exploitation\n",
        "        if np.random.random() < epsilon:\n",
        "            action = env.action_space.sample()\n",
        "        else:\n",
        "            action = np.argmax(q_table[state])\n",
        "\n",
        "        # Perform action\n",
        "        next_state_raw, reward, done, _ = env.step(action)\n",
        "        next_state = discretize_state(next_state_raw, n_bins)\n",
        "\n",
        "        # Update Q-value\n",
        "        best_next_action = np.argmax(q_table[next_state])\n",
        "        td_target = reward + gamma * q_table[next_state][best_next_action]\n",
        "        q_table[state][action] += alpha * (td_target - q_table[state][action])\n",
        "\n",
        "        state = next_state\n",
        "        total_reward += reward\n",
        "\n",
        "    # Decay epsilon\n",
        "    if epsilon > epsilon_min:\n",
        "        epsilon *= epsilon_decay\n",
        "\n",
        "    if episode % 100 == 0:\n",
        "        print(f\"Episode {episode}, Total Reward: {total_reward}\")\n",
        "\n",
        "print(\"Training Complete!\")\n",
        "\n",
        "# Wrap environment for recording\n",
        "env = RecordVideo(env, \"./video\", episode_trigger=lambda x: True)\n",
        "\n",
        "# Test the trained agent\n",
        "state = discretize_state(env.reset(), n_bins)\n",
        "done = False\n",
        "while not done:\n",
        "    action = np.argmax(q_table[state])\n",
        "    next_state_raw, _, done, _ = env.step(action)\n",
        "    state = discretize_state(next_state_raw, n_bins)\n",
        "\n",
        "env.close()\n",
        "\n",
        "# Display the video\n",
        "show_video()\n"
      ],
      "metadata": {
        "colab": {
          "base_uri": "https://localhost:8080/",
          "height": 1000
        },
        "id": "R1pDBWRnRcEy",
        "outputId": "1c78515c-7b15-4852-8c31-146156b95bec"
      },
      "execution_count": 1,
      "outputs": [
        {
          "output_type": "stream",
          "name": "stdout",
          "text": [
            "Requirement already satisfied: gym in /usr/local/lib/python3.10/dist-packages (0.25.2)\n",
            "Requirement already satisfied: numpy>=1.18.0 in /usr/local/lib/python3.10/dist-packages (from gym) (1.26.4)\n",
            "Requirement already satisfied: cloudpickle>=1.2.0 in /usr/local/lib/python3.10/dist-packages (from gym) (3.1.0)\n",
            "Requirement already satisfied: gym-notices>=0.0.4 in /usr/local/lib/python3.10/dist-packages (from gym) (0.0.8)\n"
          ]
        },
        {
          "output_type": "stream",
          "name": "stderr",
          "text": [
            "/usr/local/lib/python3.10/dist-packages/gym/core.py:317: DeprecationWarning: \u001b[33mWARN: Initializing wrapper in old step API which returns one bool instead of two. It is recommended to set `new_step_api=True` to use new step API. This will be the default behaviour in future.\u001b[0m\n",
            "  deprecation(\n",
            "/usr/local/lib/python3.10/dist-packages/gym/wrappers/step_api_compatibility.py:39: DeprecationWarning: \u001b[33mWARN: Initializing environment in old step API which returns one bool instead of two. It is recommended to set `new_step_api=True` to use new step API. This will be the default behaviour in future.\u001b[0m\n",
            "  deprecation(\n",
            "/usr/local/lib/python3.10/dist-packages/gym/utils/passive_env_checker.py:241: DeprecationWarning: `np.bool8` is a deprecated alias for `np.bool_`.  (Deprecated NumPy 1.24)\n",
            "  if not isinstance(terminated, (bool, np.bool8)):\n"
          ]
        },
        {
          "output_type": "stream",
          "name": "stdout",
          "text": [
            "Episode 0, Total Reward: -200.0\n",
            "Episode 100, Total Reward: -200.0\n",
            "Episode 200, Total Reward: -200.0\n",
            "Episode 300, Total Reward: -200.0\n",
            "Episode 400, Total Reward: -200.0\n",
            "Episode 500, Total Reward: -200.0\n",
            "Episode 600, Total Reward: -200.0\n",
            "Episode 700, Total Reward: -200.0\n",
            "Episode 800, Total Reward: -182.0\n",
            "Episode 900, Total Reward: -200.0\n",
            "Episode 1000, Total Reward: -200.0\n",
            "Episode 1100, Total Reward: -200.0\n",
            "Episode 1200, Total Reward: -200.0\n",
            "Episode 1300, Total Reward: -162.0\n",
            "Episode 1400, Total Reward: -200.0\n",
            "Episode 1500, Total Reward: -200.0\n",
            "Episode 1600, Total Reward: -200.0\n",
            "Episode 1700, Total Reward: -200.0\n",
            "Episode 1800, Total Reward: -190.0\n",
            "Episode 1900, Total Reward: -199.0\n",
            "Episode 2000, Total Reward: -200.0\n",
            "Episode 2100, Total Reward: -200.0\n",
            "Episode 2200, Total Reward: -200.0\n",
            "Episode 2300, Total Reward: -200.0\n",
            "Episode 2400, Total Reward: -131.0\n",
            "Episode 2500, Total Reward: -156.0\n",
            "Episode 2600, Total Reward: -176.0\n",
            "Episode 2700, Total Reward: -150.0\n",
            "Episode 2800, Total Reward: -167.0\n",
            "Episode 2900, Total Reward: -125.0\n",
            "Episode 3000, Total Reward: -196.0\n",
            "Episode 3100, Total Reward: -160.0\n",
            "Episode 3200, Total Reward: -200.0\n",
            "Episode 3300, Total Reward: -200.0\n",
            "Episode 3400, Total Reward: -200.0\n",
            "Episode 3500, Total Reward: -153.0\n",
            "Episode 3600, Total Reward: -154.0\n",
            "Episode 3700, Total Reward: -150.0\n",
            "Episode 3800, Total Reward: -157.0\n",
            "Episode 3900, Total Reward: -200.0\n",
            "Episode 4000, Total Reward: -145.0\n",
            "Episode 4100, Total Reward: -167.0\n",
            "Episode 4200, Total Reward: -151.0\n",
            "Episode 4300, Total Reward: -160.0\n",
            "Episode 4400, Total Reward: -155.0\n",
            "Episode 4500, Total Reward: -146.0\n",
            "Episode 4600, Total Reward: -145.0\n",
            "Episode 4700, Total Reward: -139.0\n",
            "Episode 4800, Total Reward: -148.0\n",
            "Episode 4900, Total Reward: -153.0\n",
            "Training Complete!\n"
          ]
        },
        {
          "output_type": "stream",
          "name": "stderr",
          "text": [
            "/usr/local/lib/python3.10/dist-packages/gym/wrappers/monitoring/video_recorder.py:78: DeprecationWarning: \u001b[33mWARN: Recording ability for environment MountainCar-v0 initialized with `render_mode=None` is marked as deprecated and will be removed in the future.\u001b[0m\n",
            "  logger.deprecation(\n",
            "/usr/local/lib/python3.10/dist-packages/gym/core.py:43: DeprecationWarning: \u001b[33mWARN: The argument mode in render method is deprecated; use render_mode during environment initialization instead.\n",
            "See here for more information: https://www.gymlibrary.ml/content/api/\u001b[0m\n",
            "  deprecation(\n",
            "/usr/local/lib/python3.10/dist-packages/pygame/pkgdata.py:25: DeprecationWarning: pkg_resources is deprecated as an API. See https://setuptools.pypa.io/en/latest/pkg_resources.html\n",
            "  from pkg_resources import resource_stream, resource_exists\n",
            "/usr/local/lib/python3.10/dist-packages/pkg_resources/__init__.py:3154: DeprecationWarning: Deprecated call to `pkg_resources.declare_namespace('google')`.\n",
            "Implementing implicit namespace packages (as specified in PEP 420) is preferred to `pkg_resources.declare_namespace`. See https://setuptools.pypa.io/en/latest/references/keywords.html#keyword-namespace-packages\n",
            "  declare_namespace(pkg)\n",
            "/usr/local/lib/python3.10/dist-packages/pkg_resources/__init__.py:3154: DeprecationWarning: Deprecated call to `pkg_resources.declare_namespace('google.cloud')`.\n",
            "Implementing implicit namespace packages (as specified in PEP 420) is preferred to `pkg_resources.declare_namespace`. See https://setuptools.pypa.io/en/latest/references/keywords.html#keyword-namespace-packages\n",
            "  declare_namespace(pkg)\n",
            "/usr/local/lib/python3.10/dist-packages/pkg_resources/__init__.py:3154: DeprecationWarning: Deprecated call to `pkg_resources.declare_namespace('sphinxcontrib')`.\n",
            "Implementing implicit namespace packages (as specified in PEP 420) is preferred to `pkg_resources.declare_namespace`. See https://setuptools.pypa.io/en/latest/references/keywords.html#keyword-namespace-packages\n",
            "  declare_namespace(pkg)\n",
            "/usr/local/lib/python3.10/dist-packages/gym/core.py:43: DeprecationWarning: \u001b[33mWARN: The argument mode in render method is deprecated; use render_mode during environment initialization instead.\n",
            "See here for more information: https://www.gymlibrary.ml/content/api/\u001b[0m\n",
            "  deprecation(\n"
          ]
        },
        {
          "output_type": "execute_result",
          "data": {
            "text/plain": [
              "<IPython.core.display.HTML object>"
            ],
            "text/html": [
              "\n",
              "        <video width=\"640\" height=\"480\" controls>\n",
              "            <source src=\"data:video/mp4;base64,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\" type=\"video/mp4\">\n",
              "        </video>"
            ]
          },
          "metadata": {},
          "execution_count": 1
        }
      ]
    },
    {
      "cell_type": "code",
      "source": [],
      "metadata": {
        "id": "eRMVFBNFSMN7"
      },
      "execution_count": null,
      "outputs": []
    }
  ]
}